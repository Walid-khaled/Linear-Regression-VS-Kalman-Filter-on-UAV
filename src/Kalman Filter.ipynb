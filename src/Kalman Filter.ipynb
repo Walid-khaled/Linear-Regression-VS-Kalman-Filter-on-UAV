{
  "nbformat": 4,
  "nbformat_minor": 0,
  "metadata": {
    "colab": {
      "name": "Copy of SPA_HW2_Task1_Walid_Shaker.ipynb",
      "provenance": [],
      "collapsed_sections": []
    },
    "kernelspec": {
      "display_name": "Python 3",
      "name": "python3"
    },
    "language_info": {
      "name": "python"
    }
  },
  "cells": [
    {
      "cell_type": "markdown",
      "metadata": {
        "id": "DkqHxABIlphQ"
      },
      "source": [
        "\n",
        "### Libraries Installation\n"
      ]
    },
    {
      "cell_type": "code",
      "metadata": {
        "id": "9PvUXr2TN5eM"
      },
      "source": [
        "import pandas as pd\n",
        "import numpy as np\n",
        "import matplotlib.pyplot as plt\n",
        "%matplotlib inline\n",
        "#matplotlib for figures, inline >> print more beautifully figures"
      ],
      "execution_count": null,
      "outputs": []
    },
    {
      "cell_type": "markdown",
      "metadata": {
        "id": "hcHEulSVlcXx"
      },
      "source": [
        "### Read Data and Data exploration\n",
        "First column of the data is considered as predictor which is time.\n",
        "\n",
        "Second column is set to the target which is the pitch angle."
      ]
    },
    {
      "cell_type": "code",
      "metadata": {
        "id": "gDsV56MEOdKX"
      },
      "source": [
        "#Load data\n",
        "Data = np.loadtxt('case3.txt', delimiter=',')\n",
        "t = Data[:,0]\n",
        "pitchAngle = Data[:,1]"
      ],
      "execution_count": null,
      "outputs": []
    },
    {
      "cell_type": "code",
      "metadata": {
        "id": "j5ZKgI7oPwIl",
        "colab": {
          "base_uri": "https://localhost:8080/",
          "height": 424
        },
        "outputId": "24fe02af-9278-4076-8619-45c8ba03e5c9"
      },
      "source": [
        "#Data exploration\n",
        "df = pd.DataFrame(Data, columns = ['time','pitch angle'])\n",
        "df"
      ],
      "execution_count": null,
      "outputs": [
        {
          "output_type": "execute_result",
          "data": {
            "text/html": [
              "<div>\n",
              "<style scoped>\n",
              "    .dataframe tbody tr th:only-of-type {\n",
              "        vertical-align: middle;\n",
              "    }\n",
              "\n",
              "    .dataframe tbody tr th {\n",
              "        vertical-align: top;\n",
              "    }\n",
              "\n",
              "    .dataframe thead th {\n",
              "        text-align: right;\n",
              "    }\n",
              "</style>\n",
              "<table border=\"1\" class=\"dataframe\">\n",
              "  <thead>\n",
              "    <tr style=\"text-align: right;\">\n",
              "      <th></th>\n",
              "      <th>time</th>\n",
              "      <th>pitch angle</th>\n",
              "    </tr>\n",
              "  </thead>\n",
              "  <tbody>\n",
              "    <tr>\n",
              "      <th>0</th>\n",
              "      <td>0.000005</td>\n",
              "      <td>2.6901</td>\n",
              "    </tr>\n",
              "    <tr>\n",
              "      <th>1</th>\n",
              "      <td>0.000010</td>\n",
              "      <td>9.1730</td>\n",
              "    </tr>\n",
              "    <tr>\n",
              "      <th>2</th>\n",
              "      <td>0.000015</td>\n",
              "      <td>-11.2890</td>\n",
              "    </tr>\n",
              "    <tr>\n",
              "      <th>3</th>\n",
              "      <td>0.000020</td>\n",
              "      <td>4.3181</td>\n",
              "    </tr>\n",
              "    <tr>\n",
              "      <th>4</th>\n",
              "      <td>0.000025</td>\n",
              "      <td>1.6028</td>\n",
              "    </tr>\n",
              "    <tr>\n",
              "      <th>...</th>\n",
              "      <td>...</td>\n",
              "      <td>...</td>\n",
              "    </tr>\n",
              "    <tr>\n",
              "      <th>199995</th>\n",
              "      <td>0.999980</td>\n",
              "      <td>367.7200</td>\n",
              "    </tr>\n",
              "    <tr>\n",
              "      <th>199996</th>\n",
              "      <td>0.999990</td>\n",
              "      <td>361.2100</td>\n",
              "    </tr>\n",
              "    <tr>\n",
              "      <th>199997</th>\n",
              "      <td>0.999990</td>\n",
              "      <td>357.6100</td>\n",
              "    </tr>\n",
              "    <tr>\n",
              "      <th>199998</th>\n",
              "      <td>1.000000</td>\n",
              "      <td>357.6000</td>\n",
              "    </tr>\n",
              "    <tr>\n",
              "      <th>199999</th>\n",
              "      <td>1.000000</td>\n",
              "      <td>352.8300</td>\n",
              "    </tr>\n",
              "  </tbody>\n",
              "</table>\n",
              "<p>200000 rows × 2 columns</p>\n",
              "</div>"
            ],
            "text/plain": [
              "            time  pitch angle\n",
              "0       0.000005       2.6901\n",
              "1       0.000010       9.1730\n",
              "2       0.000015     -11.2890\n",
              "3       0.000020       4.3181\n",
              "4       0.000025       1.6028\n",
              "...          ...          ...\n",
              "199995  0.999980     367.7200\n",
              "199996  0.999990     361.2100\n",
              "199997  0.999990     357.6100\n",
              "199998  1.000000     357.6000\n",
              "199999  1.000000     352.8300\n",
              "\n",
              "[200000 rows x 2 columns]"
            ]
          },
          "metadata": {},
          "execution_count": 3
        }
      ]
    },
    {
      "cell_type": "markdown",
      "metadata": {
        "id": "MHOYgYFKaN9b"
      },
      "source": [
        "### Data Visualization \n"
      ]
    },
    {
      "cell_type": "code",
      "metadata": {
        "id": "rqxj6in0VMfi",
        "colab": {
          "base_uri": "https://localhost:8080/",
          "height": 350
        },
        "outputId": "72bd3032-b346-4864-93de-4d46f60f514c"
      },
      "source": [
        "print('Data Visualization')\n",
        "print('Before filtering:\\n')\n",
        "plt.scatter(t, pitchAngle, marker='.', label=\"Pitch Angle\")\n",
        "plt.title('Pitch angle meagures in 1 second')\n",
        "plt.xlabel('Time')\n",
        "plt.ylabel('Pitch Angle')\n",
        "plt.legend(loc=\"lower right\")\n",
        "plt.show()"
      ],
      "execution_count": null,
      "outputs": [
        {
          "output_type": "stream",
          "name": "stdout",
          "text": [
            "Data Visualization\n",
            "Before filtering:\n",
            "\n"
          ]
        },
        {
          "output_type": "display_data",
          "data": {
            "image/png": "[encoded data removed]",
            "text/plain": [
              "<Figure size 432x288 with 1 Axes>"
            ]
          },
          "metadata": {
            "needs_background": "light"
          }
        }
      ]
    },
    {
      "cell_type": "markdown",
      "metadata": {
        "id": "eB13l5hVmyRK"
      },
      "source": [
        "### Kalman Filter\n",
        "#### Derivation of Equations : \n",
        "\n",
        "Kalman coeiffient is calculated via the below equation : \n",
        "\n",
        "\\begin{equation}\n",
        "K_{k+1} = \\frac{Ee^{2}_{k} + \\sigma^{2}_\\xi}{Ee^{2}_{k} + \\sigma^{2}_\\xi + \\sigma^{2}_\\eta}\\quad {(1)}\n",
        "\\end{equation}\n",
        "\n",
        "Equation for the mean square error : \n",
        "\n",
        "\\begin{equation}\n",
        "E(e^{2}_{k+1}) = \\frac{\\sigma^{2}_\\eta(Ee^{2}_{k} + \\sigma^{2}_\\xi)}{Ee^{2}_{k} + \\sigma^{2}_\\xi + \\sigma^{2}_\\eta}\\quad {(2)}\n",
        "\\end{equation}\n",
        "\n",
        "where $\\mathbf{\\eta}$ is sensor error (eta), $\\mathbf{\\xi}$ is the model error (Xi), $\\mathbf{\\sigma}$ is the variance, and e is the error of estimation. \n",
        "\n",
        "\\begin{equation}\n",
        "Var(e) = E(e^{2})-[E(e)]^{2}\n",
        "\\end{equation}\n",
        "\n",
        "since that the e is not a random variable, and variance of constant value is zero, this leads to : \n",
        "\n",
        "\\begin{equation}\n",
        "E(e^{2})= [E(e)]^{2}\n",
        "\\end{equation}\n",
        "\n",
        "substitute in (2) : \n",
        "\\begin{equation}\n",
        "E(e) = \\sqrt{\\frac{\\sigma^{2}_\\eta(Ee^{2}_{k} + \\sigma^{2}_\\xi)}{Ee^{2}_{k} + \\sigma^{2}_\\xi + \\sigma^{2}_\\eta}}\\quad {(3)}\n",
        "\\end{equation}\n",
        "\n",
        "from equation (1) and (2) : \n",
        "\\begin{equation}\n",
        "K_{k+1} = \\frac{E(e^{2}_{k+1})}{ \\sigma^{2}_\\eta}\\quad {(4)}\n",
        "\\end{equation}\n",
        "\n",
        "The equation for optimal fitered value is : \n",
        "\n",
        "\\begin{equation}\n",
        "X^{opt}_{k+1} = K_{k+1}.Z_{k+1}+(1-K_{k+1}).(X^{opt}_{k})\\quad {(5)}\n",
        "\\end{equation}\n",
        "<br><br>\n",
        "Applying equations (3), (4), (5) for the range of the dataset to obtain the filtered data. \n",
        "<br><br>\n",
        "**Initial Conditions :**\n",
        "\n",
        "Z is assigned to pitch angles measured data.\n",
        "\n",
        "let the first value of  = $Z[0]$\n",
        "\n",
        "$E(e)$ at k = 0 is a square root of the error dispersion (variance) $\\sigma_{\\eta}$\n",
        "\n",
        "$\\sigma_{\\eta}$ = 15\n",
        "\n",
        "$\\sigma_{\\xi}$ = 1\n"
      ]
    },
    {
      "cell_type": "code",
      "metadata": {
        "id": "KeFUigzp7aip",
        "colab": {
          "base_uri": "https://localhost:8080/",
          "height": 628
        },
        "outputId": "90559be9-855b-49a9-def8-8e5cc35dec4d"
      },
      "source": [
        "print('After filtering:\\n')\n",
        "N = len(Data)\n",
        "Xopt = np.zeros(N,)\n",
        "Z = np.zeros(N,)\n",
        "Eerror = np.zeros(N,)\n",
        "K = np.ones(N,)\n",
        "Z = pitchAngle\n",
        "Xopt[0] = Z[0]\n",
        "sigmaEta = 15\n",
        "sigmaXi = 1\n",
        "Eerror[0] = sigmaEta \n",
        "\n",
        "for i in range(N-1):\n",
        "  Eerror[i+1] = np.sqrt(((sigmaEta**2)*(Eerror[i]**2+(sigmaXi**2)))/((Eerror[i]**2)+(sigmaXi**2)+(sigmaEta**2)))\n",
        "  K[i+1] = (Eerror[i+1]**2)/(sigmaEta**2)\n",
        "  Xopt[i+1] = K[i+1]*Z[i+1] + (1-K[i+1])*Xopt[i]\n",
        "\n",
        "plt.scatter(t, Xopt, marker='.', label=\"Filtered Data\", c= 'm')\n",
        "plt.title('Kalman Filter')\n",
        "plt.xlabel('Time')\n",
        "plt.ylabel('Pitch Angle')\n",
        "plt.legend(loc=\"lower right\")\n",
        "plt.show()\n",
        "\n",
        "plt.scatter(t[0:100], K[0:100], marker='.', label=\"Kalman Coeiffient\", c= 'm')\n",
        "plt.axhline(y=K[-1], color='g', linestyle='-', label=\"Kstab\")\n",
        "plt.title('Kalman Coeiffient')\n",
        "plt.xlabel('Time')\n",
        "plt.ylabel('Pitch Angle')\n",
        "plt.legend(loc=\"upper right\")\n",
        "plt.show()\n",
        "print(f'Kalman Coeiffient Stab : {K[-1]}')\n"
      ],
      "execution_count": null,
      "outputs": [
        {
          "output_type": "stream",
          "name": "stdout",
          "text": [
            "After filtering:\n",
            "\n"
          ]
        },
        {
          "output_type": "display_data",
          "data": {
            "image/png": "[encoded data removed]",
            "text/plain": [
              "<Figure size 432x288 with 1 Axes>"
            ]
          },
          "metadata": {
            "needs_background": "light"
          }
        },
        {
          "output_type": "display_data",
          "data": {
            "image/png": "[encoded data removed]",
            "text/plain": [
              "<Figure size 432x288 with 1 Axes>"
            ]
          },
          "metadata": {
            "needs_background": "light"
          }
        },
        {
          "output_type": "stream",
          "name": "stdout",
          "text": [
            "Kalman Coeiffient Stab : 0.06448147119912738\n"
          ]
        }
      ]
    },
    {
      "cell_type": "markdown",
      "metadata": {
        "id": "Ro5GvJy1723W"
      },
      "source": [
        "### Discussion\n",
        "\n",
        "As $\\sigma_{\\eta}$ increases, Kalman coeiffient stablizes at lower values near to zero, which means that our estimation would not be totally affected by sensor noisy data. \n",
        "\n",
        "This means that sensor data is inherited with high noise, so in order to have a well-flitered data, it is better to assume that $\\sigma_{\\eta}$ is high because sensor noise is high. \n",
        "\n",
        "As K decreases, the model would depend more on previous $X^{opt}$ (optimal filtered value).\n",
        "\n",
        "In below sections, a comparison between original data and filtered data is conducted , and figured out by plotting both original and filtered data vs time. \n",
        "\n"
      ]
    },
    {
      "cell_type": "markdown",
      "metadata": {
        "id": "6O9Ou42nP1mb"
      },
      "source": [
        "### Comparison between original sensor data and filtered data using Kalman Filter"
      ]
    },
    {
      "cell_type": "code",
      "metadata": {
        "id": "GYAOsqf2Xb-w",
        "colab": {
          "base_uri": "https://localhost:8080/",
          "height": 460
        },
        "outputId": "7ee51188-3f59-45b0-ba11-9f4b0ae77094"
      },
      "source": [
        "print(f'Filtered Data at Kstab = {K[-1]} in comparsion to the original sensor data:\\n')\n",
        "eval_df = pd.DataFrame({'Sensor Data': pitchAngle, 'Filtered Data': Xopt})\n",
        "eval_df"
      ],
      "execution_count": null,
      "outputs": [
        {
          "output_type": "stream",
          "name": "stdout",
          "text": [
            "Filtered Data at Kstab = 0.06448147119912738 in comparsion to the original sensor data:\n",
            "\n"
          ]
        },
        {
          "output_type": "execute_result",
          "data": {
            "text/html": [
              "<div>\n",
              "<style scoped>\n",
              "    .dataframe tbody tr th:only-of-type {\n",
              "        vertical-align: middle;\n",
              "    }\n",
              "\n",
              "    .dataframe tbody tr th {\n",
              "        vertical-align: top;\n",
              "    }\n",
              "\n",
              "    .dataframe thead th {\n",
              "        text-align: right;\n",
              "    }\n",
              "</style>\n",
              "<table border=\"1\" class=\"dataframe\">\n",
              "  <thead>\n",
              "    <tr style=\"text-align: right;\">\n",
              "      <th></th>\n",
              "      <th>Sensor Data</th>\n",
              "      <th>Filtered Data</th>\n",
              "    </tr>\n",
              "  </thead>\n",
              "  <tbody>\n",
              "    <tr>\n",
              "      <th>0</th>\n",
              "      <td>2.6901</td>\n",
              "      <td>2.690100</td>\n",
              "    </tr>\n",
              "    <tr>\n",
              "      <th>1</th>\n",
              "      <td>9.1730</td>\n",
              "      <td>5.938737</td>\n",
              "    </tr>\n",
              "    <tr>\n",
              "      <th>2</th>\n",
              "      <td>-11.2890</td>\n",
              "      <td>0.153796</td>\n",
              "    </tr>\n",
              "    <tr>\n",
              "      <th>3</th>\n",
              "      <td>4.3181</td>\n",
              "      <td>1.210960</td>\n",
              "    </tr>\n",
              "    <tr>\n",
              "      <th>4</th>\n",
              "      <td>1.6028</td>\n",
              "      <td>1.291397</td>\n",
              "    </tr>\n",
              "    <tr>\n",
              "      <th>...</th>\n",
              "      <td>...</td>\n",
              "      <td>...</td>\n",
              "    </tr>\n",
              "    <tr>\n",
              "      <th>199995</th>\n",
              "      <td>367.7200</td>\n",
              "      <td>360.503618</td>\n",
              "    </tr>\n",
              "    <tr>\n",
              "      <th>199996</th>\n",
              "      <td>361.2100</td>\n",
              "      <td>360.549166</td>\n",
              "    </tr>\n",
              "    <tr>\n",
              "      <th>199997</th>\n",
              "      <td>357.6100</td>\n",
              "      <td>360.359645</td>\n",
              "    </tr>\n",
              "    <tr>\n",
              "      <th>199998</th>\n",
              "      <td>357.6000</td>\n",
              "      <td>360.181699</td>\n",
              "    </tr>\n",
              "    <tr>\n",
              "      <th>199999</th>\n",
              "      <td>352.8300</td>\n",
              "      <td>359.707650</td>\n",
              "    </tr>\n",
              "  </tbody>\n",
              "</table>\n",
              "<p>200000 rows × 2 columns</p>\n",
              "</div>"
            ],
            "text/plain": [
              "        Sensor Data  Filtered Data\n",
              "0            2.6901       2.690100\n",
              "1            9.1730       5.938737\n",
              "2          -11.2890       0.153796\n",
              "3            4.3181       1.210960\n",
              "4            1.6028       1.291397\n",
              "...             ...            ...\n",
              "199995     367.7200     360.503618\n",
              "199996     361.2100     360.549166\n",
              "199997     357.6100     360.359645\n",
              "199998     357.6000     360.181699\n",
              "199999     352.8300     359.707650\n",
              "\n",
              "[200000 rows x 2 columns]"
            ]
          },
          "metadata": {},
          "execution_count": 6
        }
      ]
    },
    {
      "cell_type": "code",
      "metadata": {
        "id": "2cixb1MmkE1A",
        "colab": {
          "base_uri": "https://localhost:8080/",
          "height": 295
        },
        "outputId": "17ac5a38-9c5d-4c87-ae3c-b019dd272d6a"
      },
      "source": [
        "plt.scatter(t, pitchAngle, marker='.', label=\"Sensor Data\")\n",
        "plt.scatter(t, Xopt, marker='.', label=\"Filtered Data\", c= 'm')\n",
        "plt.title('Pitch angle meagures in 1 second')\n",
        "plt.xlabel('Time')\n",
        "plt.ylabel('Pitch Angle')\n",
        "plt.legend(loc=\"lower right\")\n",
        "plt.show()"
      ],
      "execution_count": null,
      "outputs": [
        {
          "output_type": "display_data",
          "data": {
            "image/png": "[encoded data removed]",
            "text/plain": [
              "<Figure size 432x288 with 1 Axes>"
            ]
          },
          "metadata": {
            "needs_background": "light"
          }
        }
      ]
    },
    {
      "cell_type": "markdown",
      "metadata": {
        "id": "CEBVUFQjIyT6"
      },
      "source": [
        "### g-h Filter"
      ]
    },
    {
      "cell_type": "markdown",
      "metadata": {
        "id": "8G9viIN_bD1y"
      },
      "source": [
        "Another filter is applied which is g-h filter in order to analyze the results.\n",
        "since there is no physical model, only sensor model, this lead us to assume that Kalman filter coeiffient is constant. We saw that with increasing of the\n",
        "step the Kalman coefficient always stabilizes to the certain value . So instead of guessing the values of the coefficients and and computing the Kalman coefficient by difficult formulas, we can assume that this coefficient is constant and select just this constant. *\n",
        "\n",
        "Below Kstab is assumed to various values, and we come to a result that as Kstab decreases, the filter performs better and provides smoothed unnoisy data. \n",
        "\n",
        "The best fit is at Kstab = 0.1\n",
        "\n"
      ]
    },
    {
      "cell_type": "code",
      "metadata": {
        "id": "mwT5jGylPDnY",
        "colab": {
          "base_uri": "https://localhost:8080/",
          "height": 333
        },
        "outputId": "2efd3afd-45f8-47f0-fffc-ed2d5ac4c7fd"
      },
      "source": [
        "Kstab_values = [0.9, 0.5, 0.1]\n",
        "plt.figure(figsize=(20, 5))\n",
        "for j in range(len(Kstab_values)):\n",
        "    ax = plt.subplot(1, len(Kstab_values), j + 1)\n",
        "    plt.setp(ax, xticks=(), yticks=())\n",
        "    filtered_data = []\n",
        "    Xopt = 0\n",
        "    Kstab = Kstab_values[j]\n",
        "    for i in range(len(Data)):\n",
        "      Xk = pitchAngle[i]\n",
        "      new_Zk = Xk\n",
        "      new_Xopt = Kstab * new_Zk + (1-Kstab)*Xopt\n",
        "      filtered_data.append(new_Xopt)\n",
        "      Xopt = new_Xopt\n",
        "\n",
        "    plt.scatter(t, filtered_data, marker='.', label=\"Filtered Data\", c= 'g')\n",
        "    plt.title(f'Kstab = {Kstab}')\n",
        "    plt.xlabel('Time')\n",
        "    plt.ylabel('Pitch Angle')\n",
        "    plt.legend(loc=\"lower right\")\n",
        "    plt.xlim([-0.1, 1.1])\n",
        "plt.show()"
      ],
      "execution_count": null,
      "outputs": [
        {
          "output_type": "display_data",
          "data": {
            "image/png": "[encoded data removed]",
            "text/plain": [
              "<Figure size 1440x360 with 3 Axes>"
            ]
          },
          "metadata": {}
        }
      ]
    },
    {
      "cell_type": "markdown",
      "metadata": {
        "id": "2wlAzbHTBM7E"
      },
      "source": [
        "### References \n",
        "*https://david.wf/kalmanfilter/"
      ]
    }
  ]
}