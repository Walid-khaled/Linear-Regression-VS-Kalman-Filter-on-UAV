{
  "nbformat": 4,
  "nbformat_minor": 0,
  "metadata": {
    "colab": {
      "name": "Copy of SPA_HW1_Walid_Shaker.ipynb",
      "provenance": [],
      "collapsed_sections": []
    },
    "kernelspec": {
      "display_name": "Python 3",
      "name": "python3"
    },
    "language_info": {
      "name": "python"
    }
  },
  "cells": [
    {
      "cell_type": "markdown",
      "metadata": {
        "id": "DkqHxABIlphQ"
      },
      "source": [
        "#### Libraries Installation\n"
      ]
    },
    {
      "cell_type": "code",
      "metadata": {
        "id": "9PvUXr2TN5eM"
      },
      "source": [
        "import pandas as pd\n",
        "import numpy as np\n",
        "import matplotlib.pyplot as plt\n",
        "%matplotlib inline\n",
        "#matplotlib for figures, inline >> print more beautifully figures"
      ],
      "execution_count": null,
      "outputs": []
    },
    {
      "cell_type": "markdown",
      "metadata": {
        "id": "hcHEulSVlcXx"
      },
      "source": [
        "### Read Data and Data exploration\n",
        "First column of the data is considered as predictor which is time.\n",
        "\n",
        "Second column is set to the target which is the pitch angle."
      ]
    },
    {
      "cell_type": "code",
      "metadata": {
        "id": "gDsV56MEOdKX"
      },
      "source": [
        "#Load data\n",
        "Data = np.loadtxt('gyro_data.txt', delimiter=',')\n",
        "t = Data[:,0]\n",
        "pitchAngle = Data[:,1]"
      ],
      "execution_count": null,
      "outputs": []
    },
    {
      "cell_type": "code",
      "metadata": {
        "id": "j5ZKgI7oPwIl",
        "colab": {
          "base_uri": "https://localhost:8080/",
          "height": 424
        },
        "outputId": "687dd991-2ce4-487e-d32b-9f54abe3d862"
      },
      "source": [
        "#Data exploration\n",
        "df = pd.DataFrame(Data, columns = ['time','pitch angle'])\n",
        "df"
      ],
      "execution_count": null,
      "outputs": [
        {
          "output_type": "execute_result",
          "data": {
            "text/html": [
              "<div>\n",
              "<style scoped>\n",
              "    .dataframe tbody tr th:only-of-type {\n",
              "        vertical-align: middle;\n",
              "    }\n",
              "\n",
              "    .dataframe tbody tr th {\n",
              "        vertical-align: top;\n",
              "    }\n",
              "\n",
              "    .dataframe thead th {\n",
              "        text-align: right;\n",
              "    }\n",
              "</style>\n",
              "<table border=\"1\" class=\"dataframe\">\n",
              "  <thead>\n",
              "    <tr style=\"text-align: right;\">\n",
              "      <th></th>\n",
              "      <th>time</th>\n",
              "      <th>pitch angle</th>\n",
              "    </tr>\n",
              "  </thead>\n",
              "  <tbody>\n",
              "    <tr>\n",
              "      <th>0</th>\n",
              "      <td>0.000005</td>\n",
              "      <td>2.6901</td>\n",
              "    </tr>\n",
              "    <tr>\n",
              "      <th>1</th>\n",
              "      <td>0.000010</td>\n",
              "      <td>9.1730</td>\n",
              "    </tr>\n",
              "    <tr>\n",
              "      <th>2</th>\n",
              "      <td>0.000015</td>\n",
              "      <td>-11.2890</td>\n",
              "    </tr>\n",
              "    <tr>\n",
              "      <th>3</th>\n",
              "      <td>0.000020</td>\n",
              "      <td>4.3181</td>\n",
              "    </tr>\n",
              "    <tr>\n",
              "      <th>4</th>\n",
              "      <td>0.000025</td>\n",
              "      <td>1.6028</td>\n",
              "    </tr>\n",
              "    <tr>\n",
              "      <th>...</th>\n",
              "      <td>...</td>\n",
              "      <td>...</td>\n",
              "    </tr>\n",
              "    <tr>\n",
              "      <th>199995</th>\n",
              "      <td>0.999980</td>\n",
              "      <td>367.7200</td>\n",
              "    </tr>\n",
              "    <tr>\n",
              "      <th>199996</th>\n",
              "      <td>0.999990</td>\n",
              "      <td>361.2100</td>\n",
              "    </tr>\n",
              "    <tr>\n",
              "      <th>199997</th>\n",
              "      <td>0.999990</td>\n",
              "      <td>357.6100</td>\n",
              "    </tr>\n",
              "    <tr>\n",
              "      <th>199998</th>\n",
              "      <td>1.000000</td>\n",
              "      <td>357.6000</td>\n",
              "    </tr>\n",
              "    <tr>\n",
              "      <th>199999</th>\n",
              "      <td>1.000000</td>\n",
              "      <td>352.8300</td>\n",
              "    </tr>\n",
              "  </tbody>\n",
              "</table>\n",
              "<p>200000 rows × 2 columns</p>\n",
              "</div>"
            ],
            "text/plain": [
              "            time  pitch angle\n",
              "0       0.000005       2.6901\n",
              "1       0.000010       9.1730\n",
              "2       0.000015     -11.2890\n",
              "3       0.000020       4.3181\n",
              "4       0.000025       1.6028\n",
              "...          ...          ...\n",
              "199995  0.999980     367.7200\n",
              "199996  0.999990     361.2100\n",
              "199997  0.999990     357.6100\n",
              "199998  1.000000     357.6000\n",
              "199999  1.000000     352.8300\n",
              "\n",
              "[200000 rows x 2 columns]"
            ]
          },
          "metadata": {},
          "execution_count": 3
        }
      ]
    },
    {
      "cell_type": "markdown",
      "metadata": {
        "id": "MHOYgYFKaN9b"
      },
      "source": [
        "### Data Visualization and Outlier Detection \n",
        "In this section data are ploted in order to analyze, visulaize, and detect the outliers. \n",
        "\n",
        "Outlier is defined as an observation point that is distant from other observations. Having a look on data, we observe that there are outliers can affect model accuracy, so it is recommended to detect outliers and either to fix or remove them.\n",
        "\n",
        "However, outlier detection cannot rely on observations, it has to be performed via automatic method. A simple approach to detect outliers is to locate those samples that are far from the other samples in the feature space. The local outlier factor, LOF is used to implement that approach. It is a technique that attempts to harness the idea of k-nearest neighbors (KNN) for outlier detection. It works as marking each row in the training dataset as normal (1) or an outlier (-1). \n"
      ]
    },
    {
      "cell_type": "code",
      "metadata": {
        "id": "rqxj6in0VMfi",
        "colab": {
          "base_uri": "https://localhost:8080/",
          "height": 718
        },
        "outputId": "50f95642-b78b-4595-b093-d4b37fabd457"
      },
      "source": [
        "print('Data Visualization\\n')\n",
        "plt.scatter(t, pitchAngle, marker='.', label=\"Pitch Angle\")\n",
        "plt.title('Pitch angle meagures in 1 second')\n",
        "plt.xlabel('Time')\n",
        "plt.ylabel('Pitch Angle')\n",
        "plt.legend(loc=\"lower right\")\n",
        "plt.xlim([-0.1, 1.1])\n",
        "plt.show()\n",
        "\n",
        "t1 = t.reshape(-1,1)\n",
        "pitchAngle1 = pitchAngle.reshape(-1,1)\n",
        "print('\\nOutlier Detection & Removal using LocalOutlierFactor')\n",
        "from sklearn.neighbors import LocalOutlierFactor\n",
        "lof = LocalOutlierFactor()\n",
        "yhat = lof.fit_predict(pitchAngle1)\n",
        "#select all rows that are not outliers\n",
        "mask = yhat != -1\n",
        "t1, pitchAngle1 = t1[mask, :], pitchAngle1[mask]\n",
        "plt.scatter(t1, pitchAngle1, marker='.', label=\"Pitch Angle\")\n",
        "plt.title('Pitch angle meagures in 1 second')\n",
        "plt.xlabel('Time')\n",
        "plt.ylabel('Pitch Angle')\n",
        "plt.legend(loc=\"lower right\")\n",
        "plt.xlim([-0.1, 1.1])\n",
        "plt.show()\n",
        "print(f'Before OutLier Removal : t size {t.shape} and pitchAngle size {pitchAngle.shape}')\n",
        "print(f'After OutLier Removal : t size {t1.shape} and pitchAngle size {pitchAngle1.shape}')\n",
        "print(f'{np.sum(yhat == -1)} data point have been identified as outliers\\n')\n"
      ],
      "execution_count": null,
      "outputs": [
        {
          "output_type": "stream",
          "name": "stdout",
          "text": [
            "Data Visualization\n",
            "\n"
          ]
        },
        {
          "output_type": "display_data",
          "data": {
            "image/png": "[encoded data removed]",
            "text/plain": [
              "<Figure size 432x288 with 1 Axes>"
            ]
          },
          "metadata": {
            "needs_background": "light"
          }
        },
        {
          "output_type": "stream",
          "name": "stdout",
          "text": [
            "\n",
            "Outlier Detection & Removal using LocalOutlierFactor\n"
          ]
        },
        {
          "output_type": "display_data",
          "data": {
            "image/png": "[encoded data removed]",
            "text/plain": [
              "<Figure size 432x288 with 1 Axes>"
            ]
          },
          "metadata": {
            "needs_background": "light"
          }
        },
        {
          "output_type": "stream",
          "name": "stdout",
          "text": [
            "Before OutLier Removal : t size (200000,) and pitchAngle size (200000,)\n",
            "After OutLier Removal : t size (199852, 1) and pitchAngle size (199852, 1)\n",
            "148 data point have been identified as outliers\n",
            "\n"
          ]
        }
      ]
    },
    {
      "cell_type": "markdown",
      "metadata": {
        "id": "SDhOi9BPht9x"
      },
      "source": [
        "### Moving Average Filter\n",
        "We see that LOF is not the best way, it just removed 148 point out of 20000 points. This is because most of data points are near to each other. \n",
        "\n",
        "So, Moving Average Filter is the better solution. The moving average filter is a simple Low Pass filter commonly used for smoothing an array of sampled data/signal. It takes L input points, computes the average of those L-points and produces a single output point. So, unlike LOF, MAV does not reduce the sample set because no data points are removed. It is replacement of data with new one based on average. \n",
        "\n",
        "L is set based on some trials and best value was found at L = 10"
      ]
    },
    {
      "cell_type": "code",
      "metadata": {
        "id": "AT-EBIpDY1ya",
        "colab": {
          "base_uri": "https://localhost:8080/",
          "height": 368
        },
        "outputId": "f4de197a-e629-418d-fc61-6db91362308b"
      },
      "source": [
        "from scipy import signal\n",
        "L = 10 #L-point filter\n",
        "b = (np.ones(L))/L #numerator co-effs of filter transfer function\n",
        "a = np.ones(1)  #denominator co-effs of filter transfer function\n",
        "print(f'Before MAV : t size {t.shape} and pitchAngle size {pitchAngle.shape}')\n",
        "pitchAngle = signal.lfilter(b,a,pitchAngle) #filter output using lfilter function\n",
        "print(f'After MAV : t size {t.shape} and pitchAngle size {pitchAngle.shape}')\n",
        "print('Moving Average Filter does not remove data points, it updates them as the size of dataset still the same after applying MAV\\n')\n",
        "\n",
        "plt.scatter(t, pitchAngle, marker='.', label=\"Pitch Angle\")\n",
        "plt.title('Pitch angle meagures in 1 second')\n",
        "plt.xlabel('Time')\n",
        "plt.ylabel('Pitch Angle')\n",
        "plt.legend(loc=\"lower right\")\n",
        "plt.xlim([-0.1, 1.1])\n",
        "plt.show()"
      ],
      "execution_count": null,
      "outputs": [
        {
          "output_type": "stream",
          "name": "stdout",
          "text": [
            "Before MAV : t size (200000,) and pitchAngle size (200000,)\n",
            "After MAV : t size (200000,) and pitchAngle size (200000,)\n",
            "Moving Average Filter does not remove data points, it updates them as the size of dataset still the same after applying MAV\n",
            "\n"
          ]
        },
        {
          "output_type": "display_data",
          "data": {
            "image/png": "[encoded data removed]",
            "text/plain": [
              "<Figure size 432x288 with 1 Axes>"
            ]
          },
          "metadata": {
            "needs_background": "light"
          }
        }
      ]
    },
    {
      "cell_type": "markdown",
      "metadata": {
        "id": "3c-izqZnok04"
      },
      "source": [
        "### Confidence Interval "
      ]
    },
    {
      "cell_type": "code",
      "metadata": {
        "id": "7XMrAX-bjQbQ",
        "colab": {
          "base_uri": "https://localhost:8080/"
        },
        "outputId": "584cf309-cede-4f23-f1e1-06ba37a93a08"
      },
      "source": [
        "std = np.std(pitchAngle)\n",
        "mean = np.mean(pitchAngle)\n",
        "n = pitchAngle.size\n",
        "Standard_Error = std/np.sqrt(n)\n",
        "z = 1.96 #Confidence level =0.95 P(0.95+(0.05/2)) = P(0.975) corresponds to z = 1.96\n",
        "ME = z*Standard_Error\n",
        "CI_Lower = mean-ME\n",
        "CI_Upper = mean+ME\n",
        "print(f'Standard Deviation: {std}\\nMean: {mean}\\nStandard Error: {Standard_Error}\\nMarginal Error: {ME}\\nConfidence Interval: [{CI_Lower}, {CI_Upper}]')"
      ],
      "execution_count": null,
      "outputs": [
        {
          "output_type": "stream",
          "name": "stdout",
          "text": [
            "Standard Deviation: 103.93830249647218\n",
            "Mean: 179.99830866195808\n",
            "Standard Error: 0.2324131098480479\n",
            "Marginal Error: 0.45552969530217385\n",
            "Confidence Interval: [179.5427789666559, 180.45383835726025]\n"
          ]
        }
      ]
    },
    {
      "cell_type": "markdown",
      "metadata": {
        "id": "9-z23r9DnJIr"
      },
      "source": [
        "### Linear Regression\n",
        "\n",
        "<center><b>Simple Linear Regression Equation</b></center>\n",
        "$$y = \\beta_0 + \\beta_1x_1 + \\epsilon$$\n",
        "<br>"
      ]
    },
    {
      "cell_type": "code",
      "metadata": {
        "id": "RJmnytlR3J9l"
      },
      "source": [
        "Y = pitchAngle\n",
        "X0 = np.ones(t.size).reshape(-1,1)\n",
        "X1 = t.reshape(-1,1)\n",
        "X = np.concatenate((X0,X1), axis=1)\n",
        "Xt = np.transpose(X)\n",
        "B = np.linalg.multi_dot([np.linalg.inv(np.dot(Xt,X)),Xt, Y])\n",
        "e = Y-np.dot(X,B)\n",
        "Y_estimate = np.dot(X,B)+e"
      ],
      "execution_count": null,
      "outputs": []
    },
    {
      "cell_type": "code",
      "metadata": {
        "id": "yAY97gC5YQ1k",
        "colab": {
          "base_uri": "https://localhost:8080/"
        },
        "outputId": "2230cdc9-9474-43cb-f180-732354f690bd"
      },
      "source": [
        "print(f'Coefficients: B0 = {B[0]}, B1 = {B[1]}')"
      ],
      "execution_count": null,
      "outputs": [
        {
          "output_type": "stream",
          "name": "stdout",
          "text": [
            "Coefficients: B0 = -0.006058340786148693, B1 = 360.00538800741157\n"
          ]
        }
      ]
    },
    {
      "cell_type": "markdown",
      "metadata": {
        "id": "eZOWMo2c1CPx"
      },
      "source": [
        "#### Validation: \n",
        "In this section, validation for the linear regression model is conducted through several methods.\n",
        "> First: substitue the values for x which is time into the estimated equation after getting the coefficients, this will give the same actual data for y which is pitch angle, as shown below. In addition, applying some metrics like MSE, root MSE, and R score to explore the error between actual and estimated data,  errors are mostly zero. \n",
        "\n",
        "> Second: Apply LinearRegression model from sklearn library, it gives same coefficients; slope, and intercept. "
      ]
    },
    {
      "cell_type": "code",
      "metadata": {
        "id": "CFcvIm9BYSi5",
        "colab": {
          "base_uri": "https://localhost:8080/",
          "height": 424
        },
        "outputId": "dec03ae6-8522-4e9e-933b-e5cccb9c68ae"
      },
      "source": [
        "eval_df = pd.DataFrame({'Actual': Y, 'Estimated': Y_estimate})\n",
        "eval_df"
      ],
      "execution_count": null,
      "outputs": [
        {
          "output_type": "execute_result",
          "data": {
            "text/html": [
              "<div>\n",
              "<style scoped>\n",
              "    .dataframe tbody tr th:only-of-type {\n",
              "        vertical-align: middle;\n",
              "    }\n",
              "\n",
              "    .dataframe tbody tr th {\n",
              "        vertical-align: top;\n",
              "    }\n",
              "\n",
              "    .dataframe thead th {\n",
              "        text-align: right;\n",
              "    }\n",
              "</style>\n",
              "<table border=\"1\" class=\"dataframe\">\n",
              "  <thead>\n",
              "    <tr style=\"text-align: right;\">\n",
              "      <th></th>\n",
              "      <th>Actual</th>\n",
              "      <th>Estimated</th>\n",
              "    </tr>\n",
              "  </thead>\n",
              "  <tbody>\n",
              "    <tr>\n",
              "      <th>0</th>\n",
              "      <td>0.26901</td>\n",
              "      <td>0.26901</td>\n",
              "    </tr>\n",
              "    <tr>\n",
              "      <th>1</th>\n",
              "      <td>1.18631</td>\n",
              "      <td>1.18631</td>\n",
              "    </tr>\n",
              "    <tr>\n",
              "      <th>2</th>\n",
              "      <td>0.05741</td>\n",
              "      <td>0.05741</td>\n",
              "    </tr>\n",
              "    <tr>\n",
              "      <th>3</th>\n",
              "      <td>0.48922</td>\n",
              "      <td>0.48922</td>\n",
              "    </tr>\n",
              "    <tr>\n",
              "      <th>4</th>\n",
              "      <td>0.64950</td>\n",
              "      <td>0.64950</td>\n",
              "    </tr>\n",
              "    <tr>\n",
              "      <th>...</th>\n",
              "      <td>...</td>\n",
              "      <td>...</td>\n",
              "    </tr>\n",
              "    <tr>\n",
              "      <th>199995</th>\n",
              "      <td>360.71200</td>\n",
              "      <td>360.71200</td>\n",
              "    </tr>\n",
              "    <tr>\n",
              "      <th>199996</th>\n",
              "      <td>360.62000</td>\n",
              "      <td>360.62000</td>\n",
              "    </tr>\n",
              "    <tr>\n",
              "      <th>199997</th>\n",
              "      <td>360.87100</td>\n",
              "      <td>360.87100</td>\n",
              "    </tr>\n",
              "    <tr>\n",
              "      <th>199998</th>\n",
              "      <td>360.46100</td>\n",
              "      <td>360.46100</td>\n",
              "    </tr>\n",
              "    <tr>\n",
              "      <th>199999</th>\n",
              "      <td>360.16400</td>\n",
              "      <td>360.16400</td>\n",
              "    </tr>\n",
              "  </tbody>\n",
              "</table>\n",
              "<p>200000 rows × 2 columns</p>\n",
              "</div>"
            ],
            "text/plain": [
              "           Actual  Estimated\n",
              "0         0.26901    0.26901\n",
              "1         1.18631    1.18631\n",
              "2         0.05741    0.05741\n",
              "3         0.48922    0.48922\n",
              "4         0.64950    0.64950\n",
              "...           ...        ...\n",
              "199995  360.71200  360.71200\n",
              "199996  360.62000  360.62000\n",
              "199997  360.87100  360.87100\n",
              "199998  360.46100  360.46100\n",
              "199999  360.16400  360.16400\n",
              "\n",
              "[200000 rows x 2 columns]"
            ]
          },
          "metadata": {},
          "execution_count": 9
        }
      ]
    },
    {
      "cell_type": "code",
      "metadata": {
        "id": "nXHUFQaP_Xpn",
        "colab": {
          "base_uri": "https://localhost:8080/"
        },
        "outputId": "a7e8986b-d82e-4034-9649-e01df05c3205"
      },
      "source": [
        "#Evaluate model error \n",
        "from sklearn import metrics\n",
        "print('\\nModel error')\n",
        "print('Mean Absolute Error:', metrics.mean_absolute_error(Y, Y_estimate))\n",
        "print('Mean Squared Error:', metrics.mean_squared_error(Y, Y_estimate))\n",
        "print('Root Mean Squared Error:', np.sqrt(metrics.mean_squared_error(Y, Y_estimate)))\n",
        "print('Coefficient of Determination R score:', metrics.r2_score(Y, Y_estimate))\n"
      ],
      "execution_count": null,
      "outputs": [
        {
          "output_type": "stream",
          "name": "stdout",
          "text": [
            "\n",
            "Model error\n",
            "Mean Absolute Error: 2.8722033432182493e-19\n",
            "Mean Squared Error: 9.914187909665713e-35\n",
            "Root Mean Squared Error: 9.957001511331468e-18\n",
            "Coefficient of Determination R score: 1.0\n"
          ]
        }
      ]
    },
    {
      "cell_type": "code",
      "metadata": {
        "id": "3W-q5owJ5f35",
        "colab": {
          "base_uri": "https://localhost:8080/"
        },
        "outputId": "a7a81e23-3281-429b-b2c2-514a3764af00"
      },
      "source": [
        "from sklearn.linear_model import LinearRegression\n",
        "regressor = LinearRegression()\n",
        "regressor.fit(t.reshape(-1,1), pitchAngle.reshape(-1,1)) #uses Gradient Descent\n",
        "print(f\"Model intercept : {regressor.intercept_[0]}\")\n",
        "print(f\"Model coefficient : {regressor.coef_[0]}\")"
      ],
      "execution_count": null,
      "outputs": [
        {
          "output_type": "stream",
          "name": "stdout",
          "text": [
            "Model intercept : -0.006058340788939631\n",
            "Model coefficient : [360.00538801]\n"
          ]
        }
      ]
    }
  ]
}
